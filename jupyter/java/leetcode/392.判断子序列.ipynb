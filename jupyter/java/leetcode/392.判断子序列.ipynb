{
 "cells": [
  {
   "cell_type": "markdown",
   "metadata": {},
   "source": [
    "[392.判断子序列](https://leetcode.cn/problems/is-subsequence/description/?envType=study-plan-v2&envId=leetcode-75)\n",
    "\n",
    "\n",
    "给定字符串 s 和 t ，判断 s 是否为 t 的子序列。\n",
    "\n",
    "字符串的一个子序列是原始字符串删除一些（也可以不删除）字符而不改变剩余字符相对位置形成的新字符串。（例如，\"ace\"是\"abcde\"的一个子序列，而\"aec\"不是）。\n",
    "\n",
    "进阶：\n",
    "\n",
    "如果有大量输入的 S，称作 S1, S2, ... , Sk 其中 k >= 10亿，你需要依次检查它们是否为 T 的子序列。在这种情况下，你会怎样改变代码？\n",
    "\n",
    "示例 1：\n",
    "\n",
    "输入：s = \"abc\", t = \"ahbgdc\"\n",
    "输出：true\n",
    "示例 2：\n",
    "\n",
    "输入：s = \"axc\", t = \"ahbgdc\"\n",
    "输出：false\n",
    " \n",
    "\n",
    "提示：\n",
    "\n",
    "0 <= s.length <= 100\n",
    "0 <= t.length <= 10^4\n",
    "两个字符串都只由小写字符组成。"
   ]
  },
  {
   "cell_type": "markdown",
   "metadata": {},
   "source": [
    "## 双指针"
   ]
  },
  {
   "cell_type": "code",
   "execution_count": 1,
   "metadata": {},
   "outputs": [
    {
     "name": "stdout",
     "output_type": "stream",
     "text": [
      "false\n"
     ]
    }
   ],
   "source": [
    "class Solution {\n",
    "    public boolean isSubsequence(String s, String t) {\n",
    "        int i=0, j=0;\n",
    "        while(i<s.length()&&j<t.length()){\n",
    "            if(s.charAt(i)==t.charAt(j)){\n",
    "                i++;\n",
    "                j++;\n",
    "            }\n",
    "            else{\n",
    "                j++;\n",
    "            }\n",
    "        }\n",
    "        return i==s.length();\n",
    "    }\n",
    "}\n",
    "\n",
    "Solution solution = new Solution();\n",
    "System.out.println(Solution.isSubsequence(\"axc\", \"ahbgdc\"));"
   ]
  }
 ],
 "metadata": {
  "kernelspec": {
   "display_name": "Ganymede 2.1.2 (Java 17)",
   "language": "java",
   "name": "ganymede-2.1.2-java-17"
  },
  "language_info": {
   "file_extension": ".java",
   "mimetype": "text/x-java",
   "name": "java",
   "version": "11"
  }
 },
 "nbformat": 4,
 "nbformat_minor": 2
}
