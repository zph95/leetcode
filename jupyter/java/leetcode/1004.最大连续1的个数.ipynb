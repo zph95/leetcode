{
 "cells": [
  {
   "cell_type": "markdown",
   "metadata": {},
   "source": [
    "给定一个二进制数组 nums 和一个整数 k，如果可以翻转最多 k 个 0 ，则返回 数组中连续 1 的最大个数 。\n",
    "\n",
    "示例 1：\n",
    "\n",
    "输入：nums = [1,1,1,0,0,0,1,1,1,1,0], K = 2\n",
    "\n",
    "输出：6\n",
    "\n",
    "解释：[1,1,1,0,0,<b>1</b>,1,1,1,1,<b>1</b>]\n",
    "\n",
    "粗体数字从 0 翻转到 1，最长的子数组长度为 6。\n",
    "\n",
    "\n",
    " "
   ]
  },
  {
   "cell_type": "code",
   "execution_count": 4,
   "metadata": {},
   "outputs": [
    {
     "name": "stdout",
     "output_type": "stream",
     "text": [
      "6\n"
     ]
    }
   ],
   "source": [
    "import java.lang.Math;\n",
    "\n",
    "class Solution {\n",
    "    public int longestOnes(int[] nums, int k) {\n",
    "        int n = nums.length;\n",
    "        int left = 0, lsum = 0, rsum = 0;\n",
    "        int ans = 0;\n",
    "        for (int right = 0; right < n; ++right) {\n",
    "            rsum += 1 - nums[right];\n",
    "            while (lsum < rsum - k) {\n",
    "                lsum += 1 - nums[left];\n",
    "                ++left;\n",
    "            }\n",
    "            ans = Math.max(ans, right - left + 1);\n",
    "        }\n",
    "        return ans;\n",
    "    }\n",
    "}\n",
    "\n",
    "int[] nums = new int[]{1,1,1,0,0,0,1,1,1,1,0};\n",
    "int k=2;\n",
    "\n",
    "Solution solution=new Solution();\n",
    "int result = solution.longestOnes(nums, 2);\n",
    "System.out.println(result);\n"
   ]
  },
  {
   "cell_type": "markdown",
   "metadata": {},
   "source": [
    "# 题解\n",
    "\n",
    "对于数组 AAA 的区间 [left,right]而言，只要它包含不超过 kkk 个 000，我们就可以根据它构造出一段满足要求，并且长度为 right−left+1 的区间。\n",
    "\n",
    "因此，我们可以将该问题进行如下的转化，即：\n",
    "\n",
    "对于任意的右端点 right，希望找到最小的左端点 left，使得 [left,right] 包含不超过 k 个 0。\n",
    "\n",
    "只要我们枚举所有可能的右端点，将得到的区间的长度取最大值，即可得到答案。\n",
    "\n",
    "要想快速判断一个区间内 0 的个数，我们可以考虑将数组A 中的 0变成 1，1 变成 0。此时，我们对数组 A 求出前缀和，记为数组 P，那么 [left,right] 中包含不超过 k 个 1（注意这里就不是 0 了），当且仅当二者的前缀和之差：\n",
    "\n",
    "P[right]−P[left−1]小于等于 k\n",
    "\n",
    "\n"
   ]
  }
 ],
 "metadata": {
  "kernelspec": {
   "display_name": "Ganymede 2.1.2 (Java 17)",
   "language": "java",
   "name": "ganymede-2.1.2-java-17"
  },
  "language_info": {
   "file_extension": ".java",
   "mimetype": "text/x-java",
   "name": "java",
   "version": "11"
  }
 },
 "nbformat": 4,
 "nbformat_minor": 2
}
