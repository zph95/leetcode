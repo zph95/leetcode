{
 "cells": [
  {
   "cell_type": "markdown",
   "metadata": {},
   "source": [
    "## requirement\n",
    "install python jupyter first\n",
    "\n",
    "## jupyter java kernel\n",
    "use [ganymede](https://github.com/allen-ball/ganymede)\n",
    "\n",
    "```bash\n",
    "$ curl -sL https://github.com/allen-ball/ganymede/releases/download/v2.1.2.20230910/ganymede-2.1.2.20230910.jar -o ganymede.jar\n",
    "$ java -jar ganymede.jar -i\n",
    "```"
   ]
  },
  {
   "cell_type": "code",
   "execution_count": 1,
   "metadata": {},
   "outputs": [
    {
     "name": "stdout",
     "output_type": "stream",
     "text": [
      "Hello, World\n"
     ]
    }
   ],
   "source": [
    "String greeting = \"Hello, World\";\n",
    "\n",
    "System.out.println(greeting);"
   ]
  },
  {
   "cell_type": "markdown",
   "metadata": {},
   "source": [
    "# Java11新特性\n",
    "\n",
    "- var类型推断\n",
    "- String 新api: repeat,lines, strip, isBlank, string\n",
    "- Optional 新api:ifPresentOElse, orElseThrow\n",
    "- 响应式Stream, 增强Stream api\n",
    "- 新httpClient客户端\n"
   ]
  },
  {
   "cell_type": "markdown",
   "metadata": {},
   "source": [
    "# java 17 新特性\n",
    "\n",
    "- 文本块\n",
    "- switch表达式\n",
    "- record关键字\n",
    "- sealed classes密封类\n",
    "- instanceof模式匹配\n",
    "- Helpful NullPointerExceptions\n",
    "- 日期周期格式化\n",
    "- 精简数字格式化支持\n",
    "- Stream.toList()简化\n"
   ]
  },
  {
   "cell_type": "code",
   "execution_count": 2,
   "metadata": {},
   "outputs": [
    {
     "name": "stdout",
     "output_type": "stream",
     "text": [
      "{\n",
      "  \"name\": \"小黑说Java\",\n",
      "  \"age\": 18,\n",
      "  \"address\": \"北京市西城区\"\n",
      "}\n",
      "\n"
     ]
    }
   ],
   "source": [
    "String text = \"\"\"\n",
    "            {\n",
    "              \"name\": \"小黑说Java\",\n",
    "              \"age\": 18,\n",
    "              \"address\": \"北京市西城区\"\n",
    "            }\n",
    "            \"\"\";\n",
    "    System.out.println(text);"
   ]
  },
  {
   "cell_type": "markdown",
   "metadata": {},
   "source": [
    "## java21新特性\n",
    "JDK 21 引入了许多新特性和改进，以下是一些主要的新特性：\n",
    "\n",
    "### 1. **虚拟线程（Virtual Threads）[JEP 444]**\n",
    "   - 虚拟线程是轻量级线程，极大地简化了并发编程。\n",
    "   - 它们允许开发者创建大量线程，而不会受到传统线程的资源限制。\n",
    "   - 适用于高并发场景，如服务器应用程序。\n",
    "\n",
    "### 2. **模式匹配（Pattern Matching）改进**\n",
    "   - **`switch` 模式匹配（JEP 441）**：\n",
    "     - `switch` 语句支持模式匹配，简化了复杂条件的处理。\n",
    "     - 例如：\n",
    "       ```java\n",
    "       switch (obj) {\n",
    "           case String s -> System.out.println(\"String: \" + s);\n",
    "           case Integer i -> System.out.println(\"Integer: \" + i);\n",
    "           default -> System.out.println(\"Unknown type\");\n",
    "       }\n",
    "       ```\n",
    "   - **记录模式（Record Patterns）[JEP 440]**：\n",
    "     - 支持对 `record` 类型进行解构匹配，简化数据提取。\n",
    "\n",
    "### 3. **结构化并发（Structured Concurrency）[JEP 453]**\n",
    "   - 提供了一个 API 来管理并发任务的生命周期。\n",
    "   - 简化了多任务的管理，减少了并发编程中的复杂性和错误。\n",
    "\n",
    "### 4. **字符串模板（String Templates）[JEP 430]**\n",
    "   - 引入了类似于其他语言的字符串模板功能，简化了字符串拼接。\n",
    "   - 例如：\n",
    "     ```java\n",
    "     String name = \"Alice\";\n",
    "     String message = STR.\"Hello, \\{name}!\";\n",
    "     ```\n",
    "\n",
    "### 5. **记录解构（Record Patterns for `instanceof`）**\n",
    "   - `instanceof` 语句支持直接解构 `record`，简化了类型检查和数据提取。\n",
    "\n",
    "### 6. **范围内的值对象（Scoped Values）[JEP 446]**\n",
    "   - 提供了一种替代线程本地变量的方式，用于在线程间传递不可变数据。\n",
    "\n",
    "### 7. **垃圾回收改进**\n",
    "   - **ZGC 和 G1 GC 性能优化**：\n",
    "     - 提高了垃圾回收器的性能和吞吐量。\n",
    "\n",
    "### 8. **预览功能**\n",
    "   - **未封闭类（Unrestricted Classes）[JEP 445]**：\n",
    "     - 提供了更灵活的类继承和封装机制。\n",
    "   - **向量 API（Vector API）[JEP 448]**：\n",
    "     - 提供了硬件加速的向量计算支持。\n",
    "\n",
    "### 9. **安全性增强**\n",
    "   - 改进了密码学库和安全性相关的 API。\n",
    "\n",
    "这些新特性使得 JDK 21 在性能、并发编程和开发者体验方面都有显著提升。"
   ]
  }
 ],
 "metadata": {
  "kernelspec": {
   "display_name": "Ganymede 2.1.2 (Java 21)",
   "language": "java",
   "name": "ganymede-2.1.2-java-21"
  },
  "language_info": {
   "file_extension": ".java",
   "mimetype": "text/x-java",
   "name": "java",
   "version": "11"
  }
 },
 "nbformat": 4,
 "nbformat_minor": 2
}
