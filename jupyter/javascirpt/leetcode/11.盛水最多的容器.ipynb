{
 "cells": [
  {
   "cell_type": "markdown",
   "metadata": {},
   "source": [
    "[11. 盛最多水的容器](https://leetcode.cn/problems/container-with-most-water/description/?envType=study-plan-v2&envId=leetcode-75)\n",
    "\n",
    "整数数组 height 。有 n 条垂线，第 i 条线的两个端点是 (i, 0) 和 (i, height[i]) 。\n",
    "\n",
    "找出其中的两条线，使得它们与 x 轴共同构成的容器可以容纳最多的水。\n",
    "\n",
    "返回容器可以储存的最大水量。\n",
    "\n",
    "说明：你不能倾斜容器。\n",
    "\n",
    "示例 1：\n",
    "\n",
    "![img](https://aliyun-lc-upload.oss-cn-hangzhou.aliyuncs.com/aliyun-lc-upload/uploads/2018/07/25/question_11.jpg)\n",
    "\n",
    "输入：[1,8,6,2,5,4,8,3,7]\n",
    "输出：49 \n",
    "解释：图中垂直线代表输入数组 [1,8,6,2,5,4,8,3,7]。在此情况下，容器能够容纳水（表示为蓝色部分）的最大值为 49。\n",
    "示例 2：\n",
    "\n",
    "输入：height = [1,1]\n",
    "输出：1\n",
    " \n",
    "\n",
    "提示：\n",
    "\n",
    "n == height.length\n",
    "2 <= n <= 105\n",
    "0 <= height[i] <= 104"
   ]
  },
  {
   "cell_type": "code",
   "execution_count": 2,
   "metadata": {},
   "outputs": [
    {
     "name": "stdout",
     "output_type": "stream",
     "text": [
      "49\n"
     ]
    }
   ],
   "source": [
    "var min = function(num1, num2){\n",
    "    return num1<num2?num1:num2;\n",
    "}\n",
    "\n",
    "var maxArea1 =  function(height){\n",
    "    var max=0;\n",
    "    var len =  height.length;\n",
    "    for(var i =0; i<len-1; i++){\n",
    "        for(var j=i; j<len; j++){\n",
    "            var tmp =  (j-i)*min(height[i], height[j]);\n",
    "            if(tmp>max){\n",
    "                max=tmp;\n",
    "            }\n",
    "        }\n",
    "    }\n",
    "    return max;\n",
    "}\n",
    "var maxArea2 =  function(height){\n",
    "    var max=0;\n",
    "    var len =  height.length;\n",
    "    var i =0; \n",
    "    var j =len-1;\n",
    "    while(i!=j){\n",
    "        var tmp;\n",
    "        if(height[i]>height[j]){\n",
    "            tmp =  (j-i)*height[j];\n",
    "            j--;\n",
    "        }\n",
    "        else{\n",
    "            tmp =  (j-i)*height[i];\n",
    "            i++;\n",
    "        }\n",
    "        if(tmp>max){\n",
    "            max=tmp;\n",
    "        }\n",
    "    }\n",
    "    return max;\n",
    "}\n",
    "\n",
    "var height = [1,8,6,2,5,4,8,3,7];\n",
    "console.log(maxArea2(height));"
   ]
  },
  {
   "cell_type": "markdown",
   "metadata": {},
   "source": [
    "题解：双指针"
   ]
  }
 ],
 "metadata": {
  "kernelspec": {
   "display_name": "JavaScript (Node.js)",
   "language": "javascript",
   "name": "javascript"
  },
  "language_info": {
   "file_extension": ".js",
   "mimetype": "application/javascript",
   "name": "javascript",
   "version": "18.13.0"
  }
 },
 "nbformat": 4,
 "nbformat_minor": 2
}
