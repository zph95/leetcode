{
 "cells": [
  {
   "cell_type": "markdown",
   "metadata": {},
   "source": [
    "有一个二维表，里面有数字0 1 9，0代表墙，1代表路，9是终点，有一个人从某个坐标开始移动，判断他是否能到达终点"
   ]
  },
  {
   "cell_type": "markdown",
   "metadata": {},
   "source": [
    "你可以使用深度优先搜索（DFS）或广度优先搜索（BFS）来解决这个问题。以下是使用 Python 和 BFS 的实现代码：\n",
    "\n",
    "```python\n",
    "from collections import deque\n",
    "\n",
    "def can_reach_end(grid, start):\n",
    "    rows, cols = len(grid), len(grid[0])\n",
    "    directions = [(0, 1), (1, 0), (0, -1), (-1, 0)]  # 上下左右四个方向\n",
    "    queue = deque([start])\n",
    "    visited = set()\n",
    "    visited.add(start)\n",
    "\n",
    "    while queue:\n",
    "        x, y = queue.popleft()\n",
    "\n",
    "        # 如果到达终点，返回 True\n",
    "        if grid[x][y] == 9:\n",
    "            return True\n",
    "\n",
    "        # 遍历四个方向\n",
    "        for dx, dy in directions:\n",
    "            nx, ny = x + dx, y + dy\n",
    "\n",
    "            # 检查是否在边界内，是否未访问过，且不是墙\n",
    "            if 0 <= nx < rows and 0 <= ny < cols and (nx, ny) not in visited and grid[nx][ny] != 0:\n",
    "                queue.append((nx, ny))\n",
    "                visited.add((nx, ny))\n",
    "\n",
    "    # 如果遍历完所有可能的路径都没找到终点，返回 False\n",
    "    return False\n",
    "\n",
    "# 示例测试\n",
    "grid = [\n",
    "    [1, 0, 1, 1],\n",
    "    [1, 1, 0, 1],\n",
    "    [0, 1, 9, 0],\n",
    "    [1, 0, 1, 1]\n",
    "]\n",
    "start = (0, 0)  # 起点坐标\n",
    "\n",
    "print(can_reach_end(grid, start))  # 输出 True 或 False\n",
    "```\n",
    "\n",
    "### 代码说明：\n",
    "1. **输入**：\n",
    "   - `grid` 是一个二维列表，表示地图。\n",
    "   - `start` 是起点的坐标 `(x, y)`。\n",
    "2. **逻辑**：\n",
    "   - 使用 BFS 遍历地图，从起点开始，依次检查四个方向是否可以移动。\n",
    "   - 如果找到终点（值为 9），返回 `True`。\n",
    "   - 如果所有路径都遍历完仍未找到终点，返回 `False`。\n",
    "3. **边界检查**：\n",
    "   - 确保移动后的位置在地图范围内。\n",
    "   - 确保未访问过且不是墙（值为 0）。\n",
    "\n",
    "你可以根据需要调整输入数据或起点坐标。"
   ]
  },
  {
   "cell_type": "code",
   "execution_count": 1,
   "metadata": {},
   "outputs": [
    {
     "name": "stdout",
     "output_type": "stream",
     "text": [
      "True\n"
     ]
    }
   ],
   "source": [
    "from collections import deque\n",
    "\n",
    "def can_reach_end(grid, start):\n",
    "    rows, cols = len(grid), len(grid[0])\n",
    "    directions = [(0, 1), (1, 0), (0, -1), (-1, 0)]  # 上下左右四个方向\n",
    "    queue = deque([start])\n",
    "    visited = set()\n",
    "    visited.add(start)\n",
    "\n",
    "    while queue:\n",
    "        x, y = queue.popleft()\n",
    "\n",
    "        # 如果到达终点，返回 True\n",
    "        if grid[x][y] == 9:\n",
    "            return True\n",
    "\n",
    "        # 遍历四个方向\n",
    "        for dx, dy in directions:\n",
    "            nx, ny = x + dx, y + dy\n",
    "\n",
    "            # 检查是否在边界内，是否未访问过，且不是墙\n",
    "            if 0 <= nx < rows and 0 <= ny < cols and (nx, ny) not in visited and grid[nx][ny] != 0:\n",
    "                queue.append((nx, ny))\n",
    "                visited.add((nx, ny))\n",
    "\n",
    "    # 如果遍历完所有可能的路径都没找到终点，返回 False\n",
    "    return False\n",
    "\n",
    "# 示例测试\n",
    "grid = [\n",
    "    [1, 0, 1, 1],\n",
    "    [1, 1, 0, 1],\n",
    "    [0, 1, 9, 0],\n",
    "    [1, 0, 1, 1]\n",
    "]\n",
    "start = (0, 0)  # 起点坐标\n",
    "\n",
    "print(can_reach_end(grid, start))  # 输出 True 或 False"
   ]
  }
 ],
 "metadata": {
  "kernelspec": {
   "display_name": "Python 3",
   "language": "python",
   "name": "python3"
  },
  "language_info": {
   "codemirror_mode": {
    "name": "ipython",
    "version": 3
   },
   "file_extension": ".py",
   "mimetype": "text/x-python",
   "name": "python",
   "nbconvert_exporter": "python",
   "pygments_lexer": "ipython3",
   "version": "3.12.4"
  }
 },
 "nbformat": 4,
 "nbformat_minor": 2
}
