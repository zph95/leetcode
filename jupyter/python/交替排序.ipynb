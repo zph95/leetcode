{
 "cells": [
  {
   "cell_type": "markdown",
   "metadata": {},
   "source": [
    "列表的交替排序是指在给定的列表按升序排序后，交替选取元素(从第一个位置开始)。给定一个未排序的元素列表。编写一个算法来找到给定列表的交替排序"
   ]
  },
  {
   "cell_type": "code",
   "execution_count": 2,
   "metadata": {},
   "outputs": [
    {
     "name": "stdout",
     "output_type": "stream",
     "text": [
      "交替排序结果: [1, 3, 5, 9]\n"
     ]
    }
   ],
   "source": [
    "def alternate_sort(arr):\n",
    "    # 对列表进行升序排序\n",
    "    arr.sort()\n",
    "    \n",
    "    # 初始化结果列表\n",
    "    result = []\n",
    "    \n",
    "    #每隔一个取数\n",
    "    for i in range(0, len(arr), 2):\n",
    "        result.append(arr[i])\n",
    "    \n",
    "    return result\n",
    "\n",
    "# 示例用法\n",
    "unsorted_list = [3,5,1,5,9,10,2,6]\n",
    "result = alternate_sort(unsorted_list)\n",
    "print(\"交替排序结果:\", result)"
   ]
  }
 ],
 "metadata": {
  "kernelspec": {
   "display_name": "Python 3",
   "language": "python",
   "name": "python3"
  },
  "language_info": {
   "codemirror_mode": {
    "name": "ipython",
    "version": 3
   },
   "file_extension": ".py",
   "mimetype": "text/x-python",
   "name": "python",
   "nbconvert_exporter": "python",
   "pygments_lexer": "ipython3",
   "version": "3.12.4"
  }
 },
 "nbformat": 4,
 "nbformat_minor": 2
}
