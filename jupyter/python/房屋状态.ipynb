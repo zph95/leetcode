{
 "cells": [
  {
   "cell_type": "markdown",
   "metadata": {},
   "source": [
    "有八个房屋，排成一直线。 每个房屋都有一个状态，1 代表活跃，0 代表非活跃。 每天每个房屋都会与它的邻居竞争。如果两个邻居的状态相同（都是 1 或都是 0），那么这个房屋第二天就会变成非活跃状态（0）。如果两个邻居的状态不同，那么这个房屋第二天就会变成活跃状态（1）。 第一和最后的房屋只有一个邻居，可以假设另一个邻居的状态总是 0。 题目要求编写一个算法，输入当前每个房屋的状态和经过的天数，输出给定天数后每个房屋的状态。 输入：第一行是房屋的数量（总是 8）。 第二行包含 8 个空格分隔的整数，表示每个房屋当前的状态（1 或 0）。 第三行是经过的天数。输出：\n",
    "\n",
    "输出 8 个空格分隔的整数，表示给定天数后每个房屋的状态。"
   ]
  },
  {
   "cell_type": "markdown",
   "metadata": {},
   "source": [
    "以下是解决该问题的 Python 代码：\n",
    "\n",
    "```python\n",
    "def house_states_after_days(houses, days):\n",
    "    n = len(houses)\n",
    "    for _ in range(days):\n",
    "        # 创建一个新的状态数组\n",
    "        new_houses = [0] * n\n",
    "        for i in range(n):\n",
    "            # 获取左邻居和右邻居的状态\n",
    "            left = houses[i - 1] if i > 0 else 0\n",
    "            right = houses[i + 1] if i < n - 1 else 0\n",
    "            # 根据规则更新当前房屋状态\n",
    "            new_houses[i] = 1 if left != right else 0\n",
    "        # 更新房屋状态\n",
    "        houses = new_houses\n",
    "    return houses\n",
    "\n",
    "# 输入\n",
    "n = int(input())  # 房屋数量（总是 8）\n",
    "houses = list(map(int, input().split()))  # 当前房屋状态\n",
    "days = int(input())  # 天数\n",
    "\n",
    "# 计算结果\n",
    "result = house_states_after_days(houses, days)\n",
    "\n",
    "# 输出结果\n",
    "print(\" \".join(map(str, result)))\n",
    "```\n",
    "\n",
    "### 示例输入输出\n",
    "\n",
    "#### 输入：\n",
    "```\n",
    "8\n",
    "1 0 0 1 0 0 1 0\n",
    "3\n",
    "```\n",
    "\n",
    "#### 输出：\n",
    "```\n",
    "0 1 1 0 0 1 1 0\n",
    "```\n",
    "\n",
    "### 代码解释：\n",
    "1. **输入处理**：\n",
    "   - 第一行输入房屋数量（总是 8）。\n",
    "   - 第二行输入房屋的初始状态。\n",
    "   - 第三行输入经过的天数。\n",
    "\n",
    "2. **状态更新逻辑**：\n",
    "   - 遍历每个房屋，计算其左邻居和右邻居的状态。\n",
    "   - 如果左邻居和右邻居状态相同，则当前房屋状态变为 0；否则变为 1。\n",
    "\n",
    "3. **边界条件**：\n",
    "   - 第一间房屋的左邻居假设为 0。\n",
    "   - 最后一间房屋的右邻居假设为 0。\n",
    "\n",
    "4. **多天模拟**：\n",
    "   - 使用循环模拟多天的状态变化。\n",
    "\n",
    "5. **输出结果**：\n",
    "   - 将最终状态以空格分隔的形式输出。"
   ]
  },
  {
   "cell_type": "code",
   "execution_count": 1,
   "metadata": {},
   "outputs": [
    {
     "name": "stdout",
     "output_type": "stream",
     "text": [
      "0 1 0 0 1 0 1 0\n"
     ]
    }
   ],
   "source": [
    "def house_states_after_days(houses, days):\n",
    "    n = len(houses)\n",
    "    for _ in range(days):\n",
    "        # 创建一个新的状态数组\n",
    "        new_houses = [0] * n\n",
    "        for i in range(n):\n",
    "            # 获取左邻居和右邻居的状态\n",
    "            left = houses[i - 1] if i > 0 else 0\n",
    "            right = houses[i + 1] if i < n - 1 else 0\n",
    "            # 根据规则更新当前房屋状态\n",
    "            new_houses[i] = 1 if left != right else 0\n",
    "        # 更新房屋状态\n",
    "        houses = new_houses\n",
    "    return houses\n",
    "\n",
    "# 输入\n",
    "# n = int(input())  # 房屋数量（总是 8）\n",
    "#houses = list(map(int, input().split()))  # 当前房屋状态\n",
    "#days = int(input())  # 天数\n",
    "\n",
    "n = 8\n",
    "houses = [1, 0, 0, 0, 0, 1, 0, 0]\n",
    "days = 1\n",
    "\n",
    "# 计算结果\n",
    "result = house_states_after_days(houses, days)\n",
    "\n",
    "# 输出结果\n",
    "print(\" \".join(map(str, result)))\n"
   ]
  }
 ],
 "metadata": {
  "kernelspec": {
   "display_name": "Python 3",
   "language": "python",
   "name": "python3"
  },
  "language_info": {
   "codemirror_mode": {
    "name": "ipython",
    "version": 3
   },
   "file_extension": ".py",
   "mimetype": "text/x-python",
   "name": "python",
   "nbconvert_exporter": "python",
   "pygments_lexer": "ipython3",
   "version": "3.12.4"
  }
 },
 "nbformat": 4,
 "nbformat_minor": 2
}
