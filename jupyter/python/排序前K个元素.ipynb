{
 "cells": [
  {
   "cell_type": "markdown",
   "metadata": {},
   "source": [
    "算法来排序前K个元素(从列表中)。[0]将列表【K-1】中的元素按升序排列，将剩余的(列表【K】到列表【N-1】)元素按降序排列 输入 输入的第一行包含一个整数 -inputList size，表示列表中元素的数量(N)。 下一行由N个空格分隔的整数组成，表示列表的元素。 最后一行由一个整数 num组成，表示需要按升序排序的元素数量(K)。 输出 打印 N 个用空格分隔的整数，表示排序后的列表。"
   ]
  },
  {
   "cell_type": "markdown",
   "metadata": {},
   "source": [
    "以下是实现该算法的Python代码：\n",
    "\n",
    "```python\n",
    "# 输入列表大小\n",
    "n = int(input())  # 列表大小 N\n",
    "\n",
    "# 输入列表元素\n",
    "input_list = list(map(int, input().split()))  # 列表元素\n",
    "\n",
    "# 输入需要按升序排序的元素数量 K\n",
    "k = int(input())\n",
    "\n",
    "# 对前 K 个元素升序排序\n",
    "ascending_part = sorted(input_list[:k])\n",
    "\n",
    "# 对剩余的元素降序排序\n",
    "descending_part = sorted(input_list[k:], reverse=True)\n",
    "\n",
    "# 合并两个部分\n",
    "result = ascending_part + descending_part\n",
    "\n",
    "# 打印结果\n",
    "print(\" \".join(map(str, result)))\n",
    "```\n",
    "\n",
    "### 示例输入输出\n",
    "\n",
    "#### 输入：\n",
    "```\n",
    "8\n",
    "10 20 30 40 50 60 70 80\n",
    "4\n",
    "```\n",
    "\n",
    "#### 输出：\n",
    "```\n",
    "10 20 30 40 80 70 60 50\n",
    "```\n",
    "\n",
    "### 解释：\n",
    "1. 前 4 个元素 `[10, 20, 30, 40]` 按升序排序。\n",
    "2. 剩余的元素 `[50, 60, 70, 80]` 按降序排序为 `[80, 70, 60, 50]`。\n",
    "3. 合并后结果为 `[10, 20, 30, 40, 80, 70, 60, 50]`。\n",
    "\n",
    "你可以直接运行这段代码来解决问题。"
   ]
  },
  {
   "cell_type": "code",
   "execution_count": null,
   "metadata": {},
   "outputs": [],
   "source": [
    "# 输入列表大小\n",
    "n = int(input())  # 列表大小 N\n",
    "\n",
    "# 输入列表元素\n",
    "input_list = list(map(int, input().split()))  # 列表元素\n",
    "\n",
    "# 输入需要按升序排序的元素数量 K\n",
    "k = int(input())\n",
    "\n",
    "# 对前 K 个元素升序排序\n",
    "ascending_part = sorted(input_list[:k])\n",
    "\n",
    "# 对剩余的元素降序排序\n",
    "descending_part = sorted(input_list[k:], reverse=True)\n",
    "\n",
    "# 合并两个部分\n",
    "result = ascending_part + descending_part\n",
    "\n",
    "# 打印结果\n",
    "print(\" \".join(map(str, result)))"
   ]
  }
 ],
 "metadata": {
  "language_info": {
   "name": "python"
  }
 },
 "nbformat": 4,
 "nbformat_minor": 2
}
