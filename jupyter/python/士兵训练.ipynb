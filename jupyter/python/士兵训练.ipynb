{
 "cells": [
  {
   "cell_type": "markdown",
   "metadata": {},
   "source": [
    "有 N 个士兵站成一排，编号从 1 到 N，按升序排列。他们要参加一个由 Q 次动作组成的训练。在第 i 次动作中，少校喊出 S 个数字 rowᵢ 和 colᵢ 。位于 rowᵢ 位置和 colᵢ 位置的士兵交换位置；然后位于 (rowᵢ+1) 位置和 (colᵢ-1) 位置的士兵交换位置，以此类推，直到 (rowᵢ+m)<(colᵢ-m) 。每个士兵的 ID 在最多一次动作中，会处于范围 [rowᵢ, colᵢ] 内。\n",
    " \n",
    "编写一个算法，找到在所有动作完成后，队伍中第 K 个位置的士兵的 ID 。"
   ]
  },
  {
   "cell_type": "markdown",
   "metadata": {},
   "source": [
    "以下是解决问题的算法思路和实现：\n",
    "\n",
    "### 思路\n",
    "1. **模拟交换过程**：\n",
    "   - 对于每次动作，模拟从 `rowᵢ` 到 `colᵢ` 的交换过程。\n",
    "   - 交换规则是对称的，从两端向中间逐步交换。\n",
    "\n",
    "2. **优化模拟**：\n",
    "   - 由于每个士兵的 ID 只会在最多一次动作中被影响，可以直接记录每次动作对士兵位置的影响。\n",
    "   - 使用一个数组来表示士兵的最终位置。\n",
    "\n",
    "3. **查询结果**：\n",
    "   - 在所有动作完成后，直接查询第 K 个位置的士兵 ID。\n",
    "\n",
    "### 实现代码\n",
    "\n",
    "以下是 Python 的实现代码：\n",
    "\n",
    "```python\n",
    "def find_soldier_id(n, q, actions, k):\n",
    "    # 初始化士兵的排列\n",
    "    soldiers = list(range(1, n + 1))\n",
    "    \n",
    "    # 模拟每次动作\n",
    "    for row, col in actions:\n",
    "        left, right = row - 1, col - 1  # 转换为 0 索引\n",
    "        while left < right:\n",
    "            # 交换两端的士兵\n",
    "            soldiers[left], soldiers[right] = soldiers[right], soldiers[left]\n",
    "            left += 1\n",
    "            right -= 1\n",
    "    \n",
    "    # 返回第 K 个位置的士兵 ID\n",
    "    return soldiers[k - 1]\n",
    "\n",
    "# 示例输入\n",
    "n = 5  # 士兵数量\n",
    "q = 2  # 动作次数\n",
    "actions = [(1, 5), (2, 4)]  # 每次动作的 row 和 col\n",
    "k = 3  # 查询第 K 个位置的士兵 ID\n",
    "\n",
    "# 调用函数\n",
    "result = find_soldier_id(n, q, actions, k)\n",
    "print(result)  # 输出结果\n",
    "```\n",
    "\n",
    "### 示例解释\n",
    "假设输入为：\n",
    "- 士兵数量 `n = 5`，初始排列为 `[1, 2, 3, 4, 5]`。\n",
    "- 动作 `actions = [(1, 5), (2, 4)]`：\n",
    "  1. 第一次动作 `(1, 5)`：交换 `[1, 5]`，然后 `[2, 4]`，结果为 `[5, 4, 3, 2, 1]`。\n",
    "  2. 第二次动作 `(2, 4)`：交换 `[4, 2]`，结果为 `[5, 2, 3, 4, 1]`。\n",
    "- 查询第 `k = 3` 个位置的士兵 ID，结果为 `3`。\n",
    "\n"
   ]
  },
  {
   "cell_type": "code",
   "execution_count": 1,
   "metadata": {},
   "outputs": [
    {
     "name": "stdout",
     "output_type": "stream",
     "text": [
      "5\n"
     ]
    }
   ],
   "source": [
    "def find_soldier_id(n, q, actions, k):\n",
    "    # 初始化士兵的排列\n",
    "    soldiers = list(range(1, n + 1))\n",
    "    \n",
    "    # 模拟每次动作\n",
    "    for row, col in actions:\n",
    "        left, right = row - 1, col - 1  # 转换为 0 索引\n",
    "        while left < right:\n",
    "            # 交换两端的士兵\n",
    "            soldiers[left], soldiers[right] = soldiers[right], soldiers[left]\n",
    "            left += 1\n",
    "            right -= 1\n",
    "    \n",
    "    # 返回第 K 个位置的士兵 ID\n",
    "    return soldiers[k - 1]\n",
    "\n",
    "# 示例输入\n",
    "n = 10  # 士兵数量\n",
    "q = 3  # 动作次数\n",
    "actions = [(2, 2), (1, 5), (6,10)]  # 每次动作的 row 和 col\n",
    "k = 1  # 查询第 K 个位置的士兵 ID\n",
    "\n",
    "# 调用函数\n",
    "result = find_soldier_id(n, q, actions, k)\n",
    "print(result)  # 输出结果"
   ]
  }
 ],
 "metadata": {
  "kernelspec": {
   "display_name": "Python 3",
   "language": "python",
   "name": "python3"
  },
  "language_info": {
   "codemirror_mode": {
    "name": "ipython",
    "version": 3
   },
   "file_extension": ".py",
   "mimetype": "text/x-python",
   "name": "python",
   "nbconvert_exporter": "python",
   "pygments_lexer": "ipython3",
   "version": "3.12.4"
  }
 },
 "nbformat": 4,
 "nbformat_minor": 2
}
