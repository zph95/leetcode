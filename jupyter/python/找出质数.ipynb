{
 "cells": [
  {
   "cell_type": "markdown",
   "metadata": {},
   "source": [
    "给一堆整数，写算法，找出质数"
   ]
  },
  {
   "cell_type": "code",
   "execution_count": null,
   "metadata": {},
   "outputs": [
    {
     "name": "stdout",
     "output_type": "stream",
     "text": [
      "质数: [2, 3, 5, 7, 11, 13]\n"
     ]
    }
   ],
   "source": [
    "def is_prime(num):\n",
    "    \"\"\"判断一个数是否是质数\"\"\"\n",
    "    if num <= 1:\n",
    "        return False\n",
    "    if num == 2:  # 2 是唯一的偶数质数\n",
    "        return True\n",
    "    if num % 2 == 0:  # 排除其他偶数\n",
    "        return False\n",
    "    for i in range(3, int(num**0.5) + 1, 2):  # 只检查奇数\n",
    "        if num % i == 0:\n",
    "            return False\n",
    "    return True\n",
    "\n",
    "def find_primes(numbers):\n",
    "    \"\"\"从一组整数中找出所有的质数\"\"\"\n",
    "    return [num for num in numbers if is_prime(num)]\n",
    "\n",
    "# 示例用法\n",
    "numbers = [2, 3, 4, 5, 6, 7, 8, 9, 10, 11, 12, 13]\n",
    "primes = find_primes(numbers)\n",
    "print(\"质数:\", primes)"
   ]
  }
 ],
 "metadata": {
  "kernelspec": {
   "display_name": "Python 3",
   "language": "python",
   "name": "python3"
  },
  "language_info": {
   "codemirror_mode": {
    "name": "ipython",
    "version": 3
   },
   "file_extension": ".py",
   "mimetype": "text/x-python",
   "name": "python",
   "nbconvert_exporter": "python",
   "pygments_lexer": "ipython3",
   "version": "3.12.4"
  }
 },
 "nbformat": 4,
 "nbformat_minor": 2
}
