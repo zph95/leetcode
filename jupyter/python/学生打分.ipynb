{
 "cells": [
  {
   "cell_type": "markdown",
   "metadata": {},
   "source": [
    "Mary, a physical education teacher, divides her students into different groups and assigns an ID to each group. For the group ID, she asks the students to stand in a queue. Each student in the class has a performance factor (PFR). She assigns scores to the students in an unusual way based on their PFR. She gives a score of 5 to a student behind whom is standing at least one student with a higher PFR, behind whom is standing at least one student with a smaller PFR. Next, she gives a score of 10 to a student behind whom is standing a student with a higher PFR, behind whom no student with smaller PFR is standing. Finally, she gives a score of 15 to a student behind whom is standing no student with a higher PFR. The group ID is the sum of scores of the students in the group.\n",
    "\n",
    "Write an algorithm to find the group ID of a group of students.\n",
    "\n",
    "Input: The first line of the input consists of an integer num, representing the number of students in a group. The second line consists of N space-separated integers - listPFR[0], listPFR[1], listPFR[N-1] representing the PFR of the students in the order in which they are standing in the queue.\n",
    "\n",
    "Output: Print an integer representing the group ID of the group of students.\n",
    "\n",
    "Example: Input: 6 1 4 5 2 7 8\n",
    "\n",
    "Output: 55\n",
    "\n",
    "Explanation: The student with a PFR of 1 has a student with a PFR of 4 next to him/her, and a student with a PFR of 2 is standing behind the higher PFR student. So, Mary gives a score of 5 to the first student. Similarly, a score of 5 has been granted to the student with the PFR of 4.\n",
    "\n",
    "The student with a PFR of 5 has a student with a PFR of 7 standing behind him/her and there is no student with a smaller PFR standing behind that higher PFR student. So, Mary gives a score of 10 to the student with PFR of 5. Similarly, she gives a score of 10 to the students with the PFR of 2 and 7.\n",
    "\n",
    "The student with a PFR of 8 does not have any higher PFR student behind him/her. So, Mary assigns this student a score of 15.\n",
    "\n",
    "Thus, the group ID is 55 (5 + 5 + 10 + 10 + 10 + 15). So, the output is 55."
   ]
  },
  {
   "cell_type": "markdown",
   "metadata": {},
   "source": [
    "Mary 是一名体育老师，她将学生分成不同的组，并为每个组分配一个 ID。为了获得组 ID，她要求学生排队。班上每个学生都有一个表现因子（PFR）。她根据学生的 PFR 以一种不寻常的方式为他们分配分数。她给一个学生打 5 分，这个学生后面至少站着一名 PFR 更高的学生，这个学生后面至少站着一名 PFR 更低的学生。接下来，她给一个学生打 10 分，这个学生后面站着一名 PFR 更高的学生，而这个学生后面没有 PFR 更低的学生。最后，她给一个学生打 15 分，这个学生后面没有 PFR 更高的学生。组 ID 是组中学生分数的总和。编写一个算法来找出一组学生的组 ID。输入：输入的第一行由一个整数 num 组成，代表该组中的学生人数。第二行包含 N 个用空格分隔的整数 - listPFR[0]、listPFR[1]、listPFR[N-1]，表示学生按排队顺序排列的 PFR。 输出：打印一个整数，表示学生组的组 ID。 示例： 输入：6 1 4 5 2 7 8 输出：55 解释： PFR 为 1 的学生旁边站着一位 PFR 为 4 的学生，PFR 为 2 的学生站在 PFR 较高的学生后面。因此，玛丽给第一个学生打了 5 分。同样，PFR 为 4 的学生也被授予 5 分。PFR 为 5 的学生后面站着一位 PFR 为 7 的学生，并且没有 PFR 较低的学生站在该较高 PFR 学生后面。因此，Mary 给 PFR 为 5 的学生打 10 分。同样，她给 PFR 为 2 和 7 的学生打 10 分。PFR 为 8 的学生后面没有比他/她更高的学生。因此，Mary 给这个学生打 15 分。因此，组 ID 为 55（5 + 5 + 10 + 10 + 10 + 15）。所以，输出是 55。"
   ]
  },
  {
   "cell_type": "code",
   "execution_count": null,
   "metadata": {},
   "outputs": [
    {
     "name": "stdout",
     "output_type": "stream",
     "text": [
      "55\n"
     ]
    }
   ],
   "source": [
    "def calculate_group_id(num, listPFR):\n",
    "    group_id = 0\n",
    "\n",
    "    for i in range(num):\n",
    "        has_higher = False\n",
    "        has_lower_after_higher = False\n",
    "\n",
    "        # 检查当前学生后面是否有更高的 PFR\n",
    "        for j in range(i + 1, num):\n",
    "            if listPFR[j] > listPFR[i]:\n",
    "                has_higher = True\n",
    "                # 检查更高的 PFR 后面是否有更低的 PFR\n",
    "                for k in range(j + 1, num):\n",
    "                    if listPFR[k] < listPFR[j]:\n",
    "                        has_lower_after_higher = True\n",
    "                        break\n",
    "                break\n",
    "\n",
    "        # 根据条件分配分数\n",
    "        if not has_higher:\n",
    "            group_id += 15\n",
    "        elif has_higher and has_lower_after_higher:\n",
    "            group_id += 5\n",
    "        elif has_higher and not has_lower_after_higher:\n",
    "            group_id += 10\n",
    "\n",
    "    return group_id\n",
    "\n",
    "\n",
    "# 输入\n",
    "# num = int(input())\n",
    "# listPFR = list(map(int, input().split()))\n",
    "\n",
    "num=6\n",
    "listPFR=[1,4,5,2,7,8]\n",
    "             \n",
    "# 输出组 ID\n",
    "print(calculate_group_id(num, listPFR))"
   ]
  }
 ],
 "metadata": {
  "kernelspec": {
   "display_name": "Python 3",
   "language": "python",
   "name": "python3"
  },
  "language_info": {
   "codemirror_mode": {
    "name": "ipython",
    "version": 3
   },
   "file_extension": ".py",
   "mimetype": "text/x-python",
   "name": "python",
   "nbconvert_exporter": "python",
   "pygments_lexer": "ipython3",
   "version": "3.12.4"
  }
 },
 "nbformat": 4,
 "nbformat_minor": 2
}
