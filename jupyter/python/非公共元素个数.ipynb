{
 "cells": [
  {
   "cell_type": "markdown",
   "metadata": {},
   "source": [
    "要统计两个数组中非公共元素的个数，可以通过以下步骤实现：\n",
    "\n",
    "1. 找出两个数组的非公共元素（即只存在于一个数组中的元素）。\n",
    "2. 统计这些非公共元素的个数。\n",
    "\n",
    "以下是代码实现：\n",
    "\n",
    "```python\n",
    "def count_non_common_elements(arr1, arr2):\n",
    "    # 使用集合操作找出非公共元素\n",
    "    set1 = set(arr1)\n",
    "    set2 = set(arr2)\n",
    "    non_common = (set1 - set2) | (set2 - set1)  # 非公共元素\n",
    "    return len(non_common)\n",
    "\n",
    "# 示例输入\n",
    "arr1 = [1, 2, 3, 4]\n",
    "arr2 = [3, 4, 5, 6]\n",
    "\n",
    "# 计算非公共元素个数\n",
    "result = count_non_common_elements(arr1, arr2)\n",
    "\n",
    "# 输出结果\n",
    "print(\"非公共元素个数:\", result)\n",
    "```\n",
    "\n",
    "### 示例运行\n",
    "输入：\n",
    "```plaintext\n",
    "arr1 = [1, 2, 3, 4]\n",
    "arr2 = [3, 4, 5, 6]\n",
    "```\n",
    "\n",
    "输出：\n",
    "```plaintext\n",
    "非公共元素个数: 4\n",
    "```\n",
    "\n",
    "### 解释\n",
    "- `arr1` 的非公共元素是 `[1, 2]`。\n",
    "- `arr2` 的非公共元素是 `[5, 6]`。\n",
    "- 非公共元素总数为 `4`。"
   ]
  },
  {
   "cell_type": "code",
   "execution_count": 1,
   "metadata": {},
   "outputs": [
    {
     "name": "stdout",
     "output_type": "stream",
     "text": [
      "非公共元素个数: 4\n"
     ]
    }
   ],
   "source": [
    "def count_non_common_elements(arr1, arr2):\n",
    "    # 使用集合操作找出非公共元素\n",
    "    set1 = set(arr1)\n",
    "    set2 = set(arr2)\n",
    "    non_common = (set1 - set2) | (set2 - set1)  # 非公共元素\n",
    "    return len(non_common)\n",
    "\n",
    "# 示例输入\n",
    "arr1 = [1, 2, 3, 4]\n",
    "arr2 = [3, 4, 5, 6]\n",
    "\n",
    "# 计算非公共元素个数\n",
    "result = count_non_common_elements(arr1, arr2)\n",
    "\n",
    "# 输出结果\n",
    "print(\"非公共元素个数:\", result)"
   ]
  }
 ],
 "metadata": {
  "kernelspec": {
   "display_name": "Python 3",
   "language": "python",
   "name": "python3"
  },
  "language_info": {
   "codemirror_mode": {
    "name": "ipython",
    "version": 3
   },
   "file_extension": ".py",
   "mimetype": "text/x-python",
   "name": "python",
   "nbconvert_exporter": "python",
   "pygments_lexer": "ipython3",
   "version": "3.12.4"
  }
 },
 "nbformat": 4,
 "nbformat_minor": 2
}
