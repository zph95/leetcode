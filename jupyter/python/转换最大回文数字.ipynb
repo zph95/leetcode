{
 "cells": [
  {
   "cell_type": "markdown",
   "metadata": {},
   "source": [
    "给你一个非空的正整数列表。你可以将任意两个连续的元素相加，形成一个单独的元素。由此得到的结果可以进一步重复使用，这个过程可以重复任意次数，将给定的列表转换为最大长度的回文列表。 编写一个算法，将列表转换为最大长度的回文列表。 输入 输入的第一行包含一个整数num，表示列表中元素的数量(N)。第二行由N个空格分隔的正整数组成，arr[0]，排序[1]... arr【N-1】 表示列表的元素。 输出 打印表示回文列表的空格分隔的正整数"
   ]
  },
  {
   "cell_type": "markdown",
   "metadata": {},
   "source": [
    "以下是解决该问题的Python算法。该算法的核心思想是通过双指针法将列表调整为最大长度的回文列表。我们从列表的两端开始，逐步合并元素，直到形成回文。\n",
    "\n",
    "### 说明\n",
    "1. 使用双指针法从两端向中间靠拢。\n",
    "2. 如果两端元素相等，直接加入结果。\n",
    "3. 如果两端元素不相等，合并较小的一端的元素，直到两端相等。\n",
    "4. 最终形成最大长度的回文列表。\n",
    "\n",
    "你可以将代码复制到Python环境中运行，并根据需要测试不同的输入。"
   ]
  },
  {
   "cell_type": "code",
   "execution_count": null,
   "metadata": {},
   "outputs": [
    {
     "name": "stdout",
     "output_type": "stream",
     "text": [
      "15 25 24 25 15\n"
     ]
    }
   ],
   "source": [
    "def max_length_palindrome(num, arr):\n",
    "    # 初始化双指针\n",
    "    left, right = 0, num - 1\n",
    "    result1 = []\n",
    "    result2 = []\n",
    "    while left <= right:\n",
    "        if arr[left] == arr[right]:\n",
    "            # 如果两端相等，直接加入结果\n",
    "            result1.append(arr[left])\n",
    "            if left != right:  # 避免重复加入中间元素\n",
    "                result2.insert(0, arr[right])\n",
    "            left += 1\n",
    "            right -= 1\n",
    "        elif arr[left] < arr[right]:\n",
    "            # 如果左边小于右边，合并左边两个元素\n",
    "            arr[left + 1] += arr[left]\n",
    "            left += 1\n",
    "        else:\n",
    "            # 如果右边小于左边，合并右边两个元素\n",
    "            arr[right - 1] += arr[right]\n",
    "            right -= 1\n",
    "\n",
    "    # 打印结果\n",
    "    print(\" \".join(map(str, result1+result2)))\n",
    "\n",
    "\n",
    "# 输入处理\n",
    "# num = int(input())\n",
    "# arr = list(map(int, input().split()))\n",
    "\n",
    "num =6\n",
    "arr = [15,10,15,34,25,15]\n",
    "\n",
    "# 调用函数\n",
    "max_length_palindrome(num, arr)"
   ]
  }
 ],
 "metadata": {
  "kernelspec": {
   "display_name": "Python 3",
   "language": "python",
   "name": "python3"
  },
  "language_info": {
   "codemirror_mode": {
    "name": "ipython",
    "version": 3
   },
   "file_extension": ".py",
   "mimetype": "text/x-python",
   "name": "python",
   "nbconvert_exporter": "python",
   "pygments_lexer": "ipython3",
   "version": "3.12.4"
  }
 },
 "nbformat": 4,
 "nbformat_minor": 2
}
